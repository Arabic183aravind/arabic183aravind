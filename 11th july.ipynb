{
 "cells": [
  {
   "cell_type": "markdown",
   "metadata": {},
   "source": [
    "### STANDARD LIBRARIES\n",
    "* File I/O\n",
    "* Regular Expression\n",
    "* Datatime\n",
    "* Math(numerical and Mathematical)"
   ]
  },
  {
   "cell_type": "markdown",
   "metadata": {},
   "source": [
    "### File handling in python \n",
    "- File:- Document containing information resides in the permanent storage\n",
    "- different types of files:- txt,doc,pdf,csv and etc ...\n",
    "- input  -- keyboard\n",
    "- output -- file"
   ]
  },
  {
   "cell_type": "markdown",
   "metadata": {},
   "source": [
    "### modes of the file i/o\n",
    "- 'w' -- this mode is used to fiel writing\n",
    "       -- if the file is not present first it creates the file and write so me data to it\n",
    "       -- if the file already present then it will rewrite the previous content"
   ]
  },
  {
   "cell_type": "code",
   "execution_count": 1,
   "metadata": {},
   "outputs": [
    {
     "name": "stdout",
     "output_type": "stream",
     "text": [
      "file is created and data has written\n"
     ]
    }
   ],
   "source": [
    "#  function to craete a file and write to the file\n",
    "def createfile(filename):\n",
    "    f = open(filename,'w')\n",
    "    for i in range(10):\n",
    "        f.write('this is %d line' % i)\n",
    "    print(\"file is created and data has written\")\n",
    "    return\n",
    "createfile('file1.txt')"
   ]
  },
  {
   "cell_type": "code",
   "execution_count": 2,
   "metadata": {},
   "outputs": [
    {
     "name": "stdout",
     "output_type": "stream",
     "text": [
      " Volume in drive C has no label.\n",
      " Volume Serial Number is EE68-DC75\n",
      "\n",
      " Directory of C:\\Users\\sys45\n",
      "\n",
      "07-07-2019  00:33             8,800  JULY 6TH 2K19.ipynb\n",
      "12-07-2019  03:17    <DIR>          .\n",
      "12-07-2019  03:17    <DIR>          ..\n",
      "05-07-2019  22:42    <DIR>          .anaconda\n",
      "05-07-2019  02:45               729 .bash_history\n",
      "06-07-2019  21:11    <DIR>          .conda\n",
      "06-07-2019  21:10                43 .condarc\n",
      "11-07-2019  04:59               218 .gitconfig\n",
      "12-07-2019  03:16    <DIR>          .ipynb_checkpoints\n",
      "04-07-2019  01:55    <DIR>          .ipython\n",
      "06-07-2019  23:52    <DIR>          .jupyter\n",
      "04-07-2019  01:55    <DIR>          .matplotlib\n",
      "04-07-2019  01:53                25 .python_history\n",
      "04-07-2019  01:59    <DIR>          .spyder-py3\n",
      "24-06-2019  20:27    <DIR>          3D Objects\n",
      "06-07-2019  02:37             3,286 AGENT.ipynb\n",
      "03-07-2019  23:34    <DIR>          Anaconda3\n",
      "11-07-2019  05:09            18,536 ar.ipynb\n",
      "12-07-2019  03:11                16 arvind.txt\n",
      "24-06-2019  20:27    <DIR>          Contacts\n",
      "07-07-2019  05:38    <DIR>          Desktop\n",
      "11-07-2019  04:59    <DIR>          Documents\n",
      "11-07-2019  23:05    <DIR>          Downloads\n",
      "24-06-2019  20:27    <DIR>          Favorites\n",
      "12-07-2019  03:18               140 file1.txt\n",
      "12-07-2019  03:10               416 file2.txt\n",
      "11-07-2019  22:29                16 file3.txt\n",
      "12-07-2019  03:17               513 july 11th -2.ipynb\n",
      "12-07-2019  03:17            24,292 july 11th 2k19.ipynb\n",
      "11-07-2019  05:11            18,536 JULY10TH.ipynb\n",
      "24-06-2019  20:27    <DIR>          Links\n",
      "24-06-2019  20:27    <DIR>          Music\n",
      "06-07-2019  21:50    <DIR>          OneDrive\n",
      "04-07-2019  02:42    <DIR>          Pictures\n",
      "24-06-2019  20:27    <DIR>          Saved Games\n",
      "24-06-2019  20:29    <DIR>          Searches\n",
      "05-07-2019  23:44             1,411 Untitled.ipynb\n",
      "06-07-2019  00:29             3,859 Untitled1.ipynb\n",
      "06-07-2019  02:07                72 Untitled2.ipynb\n",
      "08-07-2019  21:34                72 Untitled3.ipynb\n",
      "09-07-2019  21:30               555 Untitled4.ipynb\n",
      "10-07-2019  22:30                72 Untitled5.ipynb\n",
      "03-07-2019  21:24    <DIR>          Videos\n",
      "              20 File(s)         81,607 bytes\n",
      "              23 Dir(s)  389,133,611,008 bytes free\n"
     ]
    }
   ],
   "source": [
    "ls"
   ]
  },
  {
   "cell_type": "code",
   "execution_count": 3,
   "metadata": {},
   "outputs": [
    {
     "name": "stdout",
     "output_type": "stream",
     "text": [
      "file is created and data has written\n"
     ]
    }
   ],
   "source": [
    "def createfile(filename):\n",
    "    f = open(filename,'w')\n",
    "    f.write('testing...\\n')\n",
    "    print(\"file is created and data has written\")\n",
    "    return\n",
    "createfile('file1.txt')"
   ]
  },
  {
   "cell_type": "code",
   "execution_count": 11,
   "metadata": {},
   "outputs": [
    {
     "name": "stdout",
     "output_type": "stream",
     "text": [
      "file is created and data has written\n"
     ]
    }
   ],
   "source": [
    "def createfile(filename):\n",
    "    f = open(filename,'w')\n",
    "    f.write('testing...\\n')\n",
    "    print(\"file is created and data has written\")\n",
    "    return\n",
    "createfile('file7.txt')"
   ]
  },
  {
   "cell_type": "code",
   "execution_count": 6,
   "metadata": {},
   "outputs": [
    {
     "name": "stdout",
     "output_type": "stream",
     "text": [
      "this is 0 line\n",
      "\n",
      "this is 1 line\n",
      "\n",
      "this is 2 line\n",
      "\n",
      "this is 3 line\n",
      "\n",
      "this is 4 line\n",
      "\n",
      "this is 5 line\n",
      "\n",
      "this is 6 line\n",
      "\n",
      "this is 7 line\n",
      "\n",
      "this is 8 line\n",
      "\n",
      "this is 9 line\n",
      "\n",
      "file created and successfully data written\n"
     ]
    }
   ],
   "source": [
    "def appenddata(filename):\n",
    "    f = open(filename,'a')\n",
    "    for i in range(10):\n",
    "        print(\"this is %d line\\n\" % i)\n",
    "    print(\"file created and successfully data written\")\n",
    "    return\n",
    "appenddata('file7.txt')"
   ]
  },
  {
   "cell_type": "code",
   "execution_count": 7,
   "metadata": {},
   "outputs": [
    {
     "name": "stdout",
     "output_type": "stream",
     "text": [
      "file created and successfully data written\n"
     ]
    }
   ],
   "source": [
    "def appenddata(filename):\n",
    "    f = open(filename,'a')\n",
    "    for i in range(10):\n",
    "        f.write(\"this is %d line\\n\" % i)\n",
    "    print(\"file created and successfully data written\")\n",
    "    return\n",
    "appenddata('file7.txt')"
   ]
  },
  {
   "cell_type": "code",
   "execution_count": 10,
   "metadata": {},
   "outputs": [
    {
     "name": "stdout",
     "output_type": "stream",
     "text": [
      "file created and successfully data written\n"
     ]
    }
   ],
   "source": [
    "def appenddata(filename):\n",
    "    f = open(filename,'a')\n",
    "    f.write(\"new line 1\\n\")\n",
    "    f.write(\"new line 2\\n\")\n",
    "    print(\"file created and successfully data written\")\n",
    "    return\n",
    "appenddata('file7.txt')"
   ]
  },
  {
   "cell_type": "code",
   "execution_count": 12,
   "metadata": {},
   "outputs": [
    {
     "name": "stdout",
     "output_type": "stream",
     "text": [
      "file created and successfully data written\n"
     ]
    }
   ],
   "source": [
    "def appenddata(filename):\n",
    "    f = open(filename,'a')\n",
    "    f.write(\"new line 1\\n\")\n",
    "    f.write(\"new line 2\\n\")\n",
    "    print(\"file created and successfully data written\")\n",
    "    f.close()\n",
    "    return\n",
    "appenddata('file7.txt')"
   ]
  },
  {
   "cell_type": "code",
   "execution_count": 13,
   "metadata": {},
   "outputs": [
    {
     "name": "stdout",
     "output_type": "stream",
     "text": [
      "testing...\n",
      "new line 1\n",
      "new line 2\n",
      "\n"
     ]
    }
   ],
   "source": [
    "# function to read the data of the file\n",
    "def readfiledata(filename):\n",
    "    f = open(filename,'r')\n",
    "    if f.mode == 'r':\n",
    "        x = f.read()\n",
    "        print(x)\n",
    "    f.close()\n",
    "    return\n",
    "readfiledata('file7.txt')\n",
    "        "
   ]
  },
  {
   "cell_type": "code",
   "execution_count": 14,
   "metadata": {},
   "outputs": [
    {
     "name": "stdout",
     "output_type": "stream",
     "text": [
      "enter the file name:-> file7.txt\n",
      "enter the mode of the filea\n",
      "the data successfully written\n"
     ]
    }
   ],
   "source": [
    "# function to read the file\n",
    "def fileoperations(filename,mode):\n",
    "    with open(filename,mode) as f:\n",
    "        if f.mode == 'r':\n",
    "            data = f.read()\n",
    "            print(data)\n",
    "        elif f.mode == 'a':\n",
    "            f.write('data to the file')\n",
    "            print('the data successfully written')\n",
    "    f.close()\n",
    "    return\n",
    "filename = input('enter the file name:-> ')\n",
    "mode = input ('enter the mode of the file')\n",
    "fileoperations(filename,mode)"
   ]
  },
  {
   "cell_type": "code",
   "execution_count": 15,
   "metadata": {},
   "outputs": [
    {
     "name": "stdout",
     "output_type": "stream",
     "text": [
      "enter the file name : file7.txt\n",
      "enter the word : line\n"
     ]
    },
    {
     "data": {
      "text/plain": [
       "2"
      ]
     },
     "execution_count": 15,
     "metadata": {},
     "output_type": "execute_result"
    }
   ],
   "source": [
    "def wordcount(filename,word):\n",
    "    with open(filename,'r') as f:\n",
    "        if f.mode == 'r':\n",
    "            x = f.read()\n",
    "            li = x.split()\n",
    "    cnt = li.count(word)        \n",
    "    return cnt\n",
    "filename = input('enter the file name : ')\n",
    "word = input('enter the word : ')\n",
    "wordcount(filename,word)"
   ]
  },
  {
   "cell_type": "code",
   "execution_count": 16,
   "metadata": {},
   "outputs": [
    {
     "name": "stdout",
     "output_type": "stream",
     "text": [
      "enter the filename: file7.txt\n"
     ]
    },
    {
     "data": {
      "text/plain": [
       "49"
      ]
     },
     "execution_count": 16,
     "metadata": {},
     "output_type": "execute_result"
    }
   ],
   "source": [
    "# character count from the given file\n",
    "def charcount(filename):\n",
    "    with open(filename,'r') as f:\n",
    "        if f.mode == 'r':\n",
    "            x = f.read()\n",
    "            li = list(x)            \n",
    "    return len(li)\n",
    "filename = input('enter the filename: ')\n",
    "charcount(filename)"
   ]
  },
  {
   "cell_type": "code",
   "execution_count": 17,
   "metadata": {},
   "outputs": [
    {
     "name": "stdout",
     "output_type": "stream",
     "text": [
      "enter the filname: file7.txt\n"
     ]
    },
    {
     "data": {
      "text/plain": [
       "4"
      ]
     },
     "execution_count": 17,
     "metadata": {},
     "output_type": "execute_result"
    }
   ],
   "source": [
    "# function to find the number of lines in input line\n",
    "# input -- filename(file2.txt)\n",
    "# ouput -- no.of lines(13)\n",
    "def countoflines(filename):\n",
    "    with open(filename,'r') as f:\n",
    "        if f.mode == 'r':\n",
    "            x = f.read()\n",
    "            li = x.split(\"\\n\")\n",
    "    return len(li)\n",
    "filename = input('enter the filname: ')\n",
    "countoflines(filename)\n"
   ]
  },
  {
   "cell_type": "code",
   "execution_count": 18,
   "metadata": {},
   "outputs": [
    {
     "name": "stdout",
     "output_type": "stream",
     "text": [
      "enter the filename: file7.txt\n"
     ]
    },
    {
     "data": {
      "text/plain": [
       "'Upper case = 0 , Lower case = 34'"
      ]
     },
     "execution_count": 18,
     "metadata": {},
     "output_type": "execute_result"
    }
   ],
   "source": [
    "# function to print the upper and lower case character\n",
    "def casecount(filename):\n",
    "    cntUpper = 0\n",
    "    cntLower = 0\n",
    "    with open(filename,'r') as f:\n",
    "        if f.mode == 'r':\n",
    "            x = f.read()\n",
    "            li = list(x)\n",
    "    for i in li:\n",
    "        if i.isupper():\n",
    "            cntUpper += 1 # cntUpper = cntUpper + 1\n",
    "        elif i.islower():\n",
    "            cntLower += 1 # cntLower = cntLower + 1\n",
    "    output = 'Upper case = {0} , Lower case = {1}'.format(cntUpper, cntLower)\n",
    "    return output\n",
    "filename = input('enter the filename: ')\n",
    "casecount(filename)"
   ]
  },
  {
   "cell_type": "markdown",
   "metadata": {},
   "source": [
    "### math, random, OS\n",
    "- OS package contains the certain methonds which works with OS"
   ]
  },
  {
   "cell_type": "code",
   "execution_count": 19,
   "metadata": {},
   "outputs": [
    {
     "name": "stdout",
     "output_type": "stream",
     "text": [
      " Volume in drive C has no label.\n",
      " Volume Serial Number is EE68-DC75\n",
      "\n",
      " Directory of C:\\Users\\sys45\n",
      "\n",
      "07-07-2019  00:33             8,800  JULY 6TH 2K19.ipynb\n",
      "12-07-2019  03:24    <DIR>          .\n",
      "12-07-2019  03:24    <DIR>          ..\n",
      "05-07-2019  22:42    <DIR>          .anaconda\n",
      "05-07-2019  02:45               729 .bash_history\n",
      "06-07-2019  21:11    <DIR>          .conda\n",
      "06-07-2019  21:10                43 .condarc\n",
      "11-07-2019  04:59               218 .gitconfig\n",
      "12-07-2019  03:16    <DIR>          .ipynb_checkpoints\n",
      "04-07-2019  01:55    <DIR>          .ipython\n",
      "06-07-2019  23:52    <DIR>          .jupyter\n",
      "04-07-2019  01:55    <DIR>          .matplotlib\n",
      "04-07-2019  01:53                25 .python_history\n",
      "04-07-2019  01:59    <DIR>          .spyder-py3\n",
      "24-06-2019  20:27    <DIR>          3D Objects\n",
      "06-07-2019  02:37             3,286 AGENT.ipynb\n",
      "03-07-2019  23:34    <DIR>          Anaconda3\n",
      "11-07-2019  05:09            18,536 ar.ipynb\n",
      "12-07-2019  03:11                16 arvind.txt\n",
      "24-06-2019  20:27    <DIR>          Contacts\n",
      "07-07-2019  05:38    <DIR>          Desktop\n",
      "11-07-2019  04:59    <DIR>          Documents\n",
      "11-07-2019  23:05    <DIR>          Downloads\n",
      "24-06-2019  20:27    <DIR>          Favorites\n",
      "12-07-2019  03:19                12 file1.txt\n",
      "12-07-2019  03:20               464 file2.txt\n",
      "11-07-2019  22:29                16 file3.txt\n",
      "12-07-2019  03:22                52 file7.txt\n",
      "12-07-2019  03:23            11,249 july 11th -2.ipynb\n",
      "12-07-2019  03:24            24,292 july 11th 2k19.ipynb\n",
      "11-07-2019  05:11            18,536 JULY10TH.ipynb\n",
      "24-06-2019  20:27    <DIR>          Links\n",
      "24-06-2019  20:27    <DIR>          Music\n",
      "06-07-2019  21:50    <DIR>          OneDrive\n",
      "04-07-2019  02:42    <DIR>          Pictures\n",
      "24-06-2019  20:27    <DIR>          Saved Games\n",
      "24-06-2019  20:29    <DIR>          Searches\n",
      "05-07-2019  23:44             1,411 Untitled.ipynb\n",
      "06-07-2019  00:29             3,859 Untitled1.ipynb\n",
      "06-07-2019  02:07                72 Untitled2.ipynb\n",
      "08-07-2019  21:34                72 Untitled3.ipynb\n",
      "09-07-2019  21:30               555 Untitled4.ipynb\n",
      "10-07-2019  22:30                72 Untitled5.ipynb\n",
      "03-07-2019  21:24    <DIR>          Videos\n",
      "              21 File(s)         92,315 bytes\n",
      "              23 Dir(s)  389,132,726,272 bytes free\n"
     ]
    }
   ],
   "source": [
    "ls"
   ]
  },
  {
   "cell_type": "code",
   "execution_count": 20,
   "metadata": {},
   "outputs": [
    {
     "ename": "NameError",
     "evalue": "name 'os' is not defined",
     "output_type": "error",
     "traceback": [
      "\u001b[1;31m---------------------------------------------------------------------------\u001b[0m",
      "\u001b[1;31mNameError\u001b[0m                                 Traceback (most recent call last)",
      "\u001b[1;32m<ipython-input-20-2817d40a7fe1>\u001b[0m in \u001b[0;36m<module>\u001b[1;34m\u001b[0m\n\u001b[1;32m----> 1\u001b[1;33m \u001b[0mos\u001b[0m\u001b[1;33m.\u001b[0m\u001b[0mmkdir\u001b[0m\u001b[1;33m(\u001b[0m\u001b[1;34m'SingleDirectory'\u001b[0m\u001b[1;33m)\u001b[0m\u001b[1;33m\u001b[0m\u001b[1;33m\u001b[0m\u001b[0m\n\u001b[0m",
      "\u001b[1;31mNameError\u001b[0m: name 'os' is not defined"
     ]
    }
   ],
   "source": [
    "os.mkdir('SingleDirectory')"
   ]
  },
  {
   "cell_type": "code",
   "execution_count": null,
   "metadata": {},
   "outputs": [],
   "source": []
  }
 ],
 "metadata": {
  "kernelspec": {
   "display_name": "Python 3",
   "language": "python",
   "name": "python3"
  },
  "language_info": {
   "codemirror_mode": {
    "name": "ipython",
    "version": 3
   },
   "file_extension": ".py",
   "mimetype": "text/x-python",
   "name": "python",
   "nbconvert_exporter": "python",
   "pygments_lexer": "ipython3",
   "version": "3.7.3"
  }
 },
 "nbformat": 4,
 "nbformat_minor": 2
}
