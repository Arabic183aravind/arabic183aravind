{
 "cells": [
  {
   "cell_type": "code",
   "execution_count": 2,
   "metadata": {},
   "outputs": [
    {
     "name": "stdout",
     "output_type": "stream",
     "text": [
      "enter number 1 15\n",
      "enter number 2 45\n",
      "enter number 3 85\n",
      "85 is the large number\n"
     ]
    }
   ],
   "source": [
    "# Find the large number from the given 3 numbers\n",
    "a1 = int(input(\"enter number 1 \"))\n",
    "a2 = int(input(\"enter number 2 \"))\n",
    "a3 = int(input(\"enter number 3 \"))\n",
    "\n",
    "if a1>a2 and a1>a3:\n",
    "    print(a1, \"is the large number\")\n",
    "elif a2>a1 and a2>a3:\n",
    "    print(a2, \"is the large number\")\n",
    "else:\n",
    "    print(a3, \"is the large number\")"
   ]
  },
  {
   "cell_type": "code",
   "execution_count": 3,
   "metadata": {},
   "outputs": [
    {
     "name": "stdout",
     "output_type": "stream",
     "text": [
      "enter the year2012\n",
      "leap year\n"
     ]
    }
   ],
   "source": [
    "# CHECK IF A YEAR IS LEAP YEAR OR NOT\n",
    "year = int(input(\"enter the year\"))\n",
    "if year%400 == 0 or (year % 100 != 0 and year % 4 == 0 ):\n",
    "    print(\"leap year\")\n",
    "else:\n",
    "    print(\"not a leap year\")\n",
    "    \n",
    "  "
   ]
  },
  {
   "cell_type": "markdown",
   "metadata": {},
   "source": [
    "### lteration statements\n",
    "- while\n",
    "- for\n",
    "\n",
    "syntax:\n",
    "        while boolean_conditions : <br>\n",
    "        statements <br>\n",
    "        increment / decrement <br>"
   ]
  },
  {
   "cell_type": "code",
   "execution_count": 5,
   "metadata": {},
   "outputs": [
    {
     "name": "stdout",
     "output_type": "stream",
     "text": [
      "KING OF WORLD\n",
      "KING OF WORLD\n",
      "KING OF WORLD\n",
      "KING OF WORLD\n",
      "KING OF WORLD\n",
      "KING OF WORLD\n",
      "KING OF WORLD\n"
     ]
    }
   ],
   "source": [
    "# need print \"KING OF WORLD\" for 7 times\n",
    "print(\"KING OF WORLD\")\n",
    "print(\"KING OF WORLD\")\n",
    "print(\"KING OF WORLD\")\n",
    "print(\"KING OF WORLD\")\n",
    "print(\"KING OF WORLD\")\n",
    "print(\"KING OF WORLD\")\n",
    "print(\"KING OF WORLD\")"
   ]
  },
  {
   "cell_type": "code",
   "execution_count": 6,
   "metadata": {},
   "outputs": [
    {
     "name": "stdout",
     "output_type": "stream",
     "text": [
      "KING OF WORLD\n",
      "KING OF WORLD\n",
      "KING OF WORLD\n",
      "KING OF WORLD\n",
      "KING OF WORLD\n",
      "KING OF WORLD\n",
      "KING OF WORLD\n"
     ]
    }
   ],
   "source": [
    "x = 0\n",
    "while x < 7 :\n",
    "    print(\"KING OF WORLD\")\n",
    "    x = x + 1"
   ]
  },
  {
   "cell_type": "code",
   "execution_count": 7,
   "metadata": {},
   "outputs": [
    {
     "name": "stdout",
     "output_type": "stream",
     "text": [
      "enter a number8\n",
      "12345678"
     ]
    }
   ],
   "source": [
    "# print N natural numbers using while loop\n",
    "# input - 10\n",
    "# output - 1 2 3 ..... 10\n",
    "n = int(input(\"enter a number\"))\n",
    "i = 1\n",
    "while i <= n :\n",
    "    print(i,end = \"\")\n",
    "    i = i + 1"
   ]
  },
  {
   "cell_type": "code",
   "execution_count": 5,
   "metadata": {},
   "outputs": [
    {
     "name": "stdout",
     "output_type": "stream",
     "text": [
      "enter a number10\n",
      "30\n"
     ]
    }
   ],
   "source": [
    "# read a number -- n\n",
    "# add only even number betweem 1 to n\n",
    "# input -- 10\n",
    "# output -- 30(2 + 4 + 6 + 8 + 10)\n",
    "n = int(input('enter a number'))\n",
    "i = 1\n",
    "sum = 0\n",
    "while i <= n:\n",
    "    if i % 2 == 0:\n",
    "        sum = sum + i\n",
    "    i = i + 1\n",
    "print(sum)"
   ]
  },
  {
   "cell_type": "code",
   "execution_count": 3,
   "metadata": {},
   "outputs": [
    {
     "name": "stdout",
     "output_type": "stream",
     "text": [
      "enter the number 183\n",
      "3 8 1 "
     ]
    }
   ],
   "source": [
    "# number as a number -- 123\n",
    "# print the digits of given number : 3 2 1\n",
    "n = int(input(\"enter the number \"))\n",
    "while n != 0:\n",
    "    r = n % 10\n",
    "    print(r,end = \" \")\n",
    "    n = n // 10"
   ]
  },
  {
   "cell_type": "markdown",
   "metadata": {},
   "source": [
    "# functional prigramming\n",
    "- simple\n",
    "- easy read\n",
    "- lengthy program divides into sub programs "
   ]
  },
  {
   "cell_type": "markdown",
   "metadata": {},
   "source": [
    "def nameofthefunction(<parameters>):\n",
    "    statement\n",
    "    return"
   ]
  },
  {
   "cell_type": "code",
   "execution_count": 14,
   "metadata": {},
   "outputs": [
    {
     "name": "stdout",
     "output_type": "stream",
     "text": [
      "14\n"
     ]
    }
   ],
   "source": [
    "# read a number -- 1234\n",
    "# output -- 6(2+4)\n",
    "def addevendigits(n):\n",
    "    sum = 0\n",
    "    while n!= 0:\n",
    "        r = n % 10\n",
    "        if r % 2 == 0:\n",
    "            sum = sum + r\n",
    "        n = n // 10\n",
    "    print(sum)\n",
    "addevendigits(1284)\n",
    "                  "
   ]
  },
  {
   "cell_type": "code",
   "execution_count": 11,
   "metadata": {},
   "outputs": [
    {
     "data": {
      "text/plain": [
       "9"
      ]
     },
     "execution_count": 11,
     "metadata": {},
     "output_type": "execute_result"
    }
   ],
   "source": [
    "# read a number -- 19528\n",
    "# print the large digit print the number\n",
    "def printlarge(n):\n",
    "    large = 0\n",
    "    while n != 0:\n",
    "        r = n % 10\n",
    "        if large < r:\n",
    "            large = r\n",
    "        n = n // 10 \n",
    "    return large\n",
    "printlarge(19528)"
   ]
  },
  {
   "cell_type": "code",
   "execution_count": 15,
   "metadata": {},
   "outputs": [
    {
     "data": {
      "text/plain": [
       "321"
      ]
     },
     "execution_count": 15,
     "metadata": {},
     "output_type": "execute_result"
    }
   ],
   "source": [
    "# read a number input\n",
    "# output reverse of given number\n",
    "# 123 -- 321\n",
    "def reversenumber(n):\n",
    "    rev = 0\n",
    "    while n != 0:\n",
    "        r = n % 10\n",
    "        rev = rev * 10 + r\n",
    "        n = n // 10\n",
    "    return rev\n",
    "reversenumber(123)"
   ]
  },
  {
   "cell_type": "code",
   "execution_count": 16,
   "metadata": {},
   "outputs": [
    {
     "name": "stdout",
     "output_type": "stream",
     "text": [
      "no\n",
      "yes\n"
     ]
    }
   ],
   "source": [
    "                                                                                                                                                            # PALINDROME\n",
    "def ispalindrome(n):\n",
    "    rev  = 0\n",
    "    buffer = n\n",
    "    while n != 0:\n",
    "        r = n % 10\n",
    "        rev = rev * 10 + r\n",
    "        n = n // 10\n",
    "    if buffer == rev:\n",
    "        return \"yes\"\n",
    "    else:\n",
    "        return \"no\"\n",
    "print(ispalindrome(123))\n",
    "print(ispalindrome(121))                                                                                                   "
   ]
  },
  {
   "cell_type": "code",
   "execution_count": 17,
   "metadata": {},
   "outputs": [
    {
     "name": "stdout",
     "output_type": "stream",
     "text": [
      "1 2 3 4 5 6 7 8 9 10 "
     ]
    }
   ],
   "source": [
    "def printnnaturalnumbers(n):\n",
    "    for x in range(1,n+1):\n",
    "        print(x,end=\" \")\n",
    "    return\n",
    "printnnaturalnumbers(10)"
   ]
  },
  {
   "cell_type": "code",
   "execution_count": 18,
   "metadata": {},
   "outputs": [
    {
     "name": "stdout",
     "output_type": "stream",
     "text": [
      "11 12 13 14 15 16 17 18 19 20 21 22 23 24 25 "
     ]
    }
   ],
   "source": [
    "# function to print 2 numbers between 2 limits\n",
    "# input : 11,25\n",
    "# output : 11 12 13 ..........25\n",
    "def printseries(lb,ub):\n",
    "    for x in range(lb,ub+1):\n",
    "        print(x,end=\" \")\n",
    "    return\n",
    "printseries(11,25)\n"
   ]
  },
  {
   "cell_type": "code",
   "execution_count": null,
   "metadata": {},
   "outputs": [],
   "source": []
  }
 ],
 "metadata": {
  "kernelspec": {
   "display_name": "Python 3",
   "language": "python",
   "name": "python3"
  },
  "language_info": {
   "codemirror_mode": {
    "name": "ipython",
    "version": 3
   },
   "file_extension": ".py",
   "mimetype": "text/x-python",
   "name": "python",
   "nbconvert_exporter": "python",
   "pygments_lexer": "ipython3",
   "version": "3.7.3"
  }
 },
 "nbformat": 4,
 "nbformat_minor": 2
}
